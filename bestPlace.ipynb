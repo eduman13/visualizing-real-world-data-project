{
 "cells": [
  {
   "cell_type": "code",
   "execution_count": 1,
   "metadata": {},
   "outputs": [
    {
     "name": "stdout",
     "output_type": "stream",
     "text": [
      "Requirement already satisfied: folium in c:\\users\\eduardo\\appdata\\local\\programs\\python\\python37-32\\lib\\site-packages (0.10.1)\n",
      "Requirement already satisfied: numpy in c:\\users\\eduardo\\appdata\\local\\programs\\python\\python37-32\\lib\\site-packages (from folium) (1.18.1)\n",
      "Requirement already satisfied: branca>=0.3.0 in c:\\users\\eduardo\\appdata\\local\\programs\\python\\python37-32\\lib\\site-packages (from folium) (0.3.1)\n",
      "Requirement already satisfied: requests in c:\\users\\eduardo\\appdata\\local\\programs\\python\\python37-32\\lib\\site-packages (from folium) (2.22.0)\n",
      "Requirement already satisfied: jinja2>=2.9 in c:\\users\\eduardo\\appdata\\local\\programs\\python\\python37-32\\lib\\site-packages (from folium) (2.10.3)\n",
      "Requirement already satisfied: six in c:\\users\\eduardo\\appdata\\local\\programs\\python\\python37-32\\lib\\site-packages (from branca>=0.3.0->folium) (1.13.0)\n",
      "Requirement already satisfied: chardet<3.1.0,>=3.0.2 in c:\\users\\eduardo\\appdata\\local\\programs\\python\\python37-32\\lib\\site-packages (from requests->folium) (3.0.4)\n",
      "Requirement already satisfied: urllib3!=1.25.0,!=1.25.1,<1.26,>=1.21.1 in c:\\users\\eduardo\\appdata\\local\\programs\\python\\python37-32\\lib\\site-packages (from requests->folium) (1.25.8)\n",
      "Requirement already satisfied: certifi>=2017.4.17 in c:\\users\\eduardo\\appdata\\local\\programs\\python\\python37-32\\lib\\site-packages (from requests->folium) (2019.11.28)\n",
      "Requirement already satisfied: idna<2.9,>=2.5 in c:\\users\\eduardo\\appdata\\local\\programs\\python\\python37-32\\lib\\site-packages (from requests->folium) (2.8)\n",
      "Requirement already satisfied: MarkupSafe>=0.23 in c:\\users\\eduardo\\appdata\\local\\programs\\python\\python37-32\\lib\\site-packages (from jinja2>=2.9->folium) (1.1.1)\n"
     ]
    },
    {
     "name": "stderr",
     "output_type": "stream",
     "text": [
      "WARNING: You are using pip version 19.3.1; however, version 20.0.2 is available.\n",
      "You should consider upgrading via the 'python -m pip install --upgrade pip' command.\n"
     ]
    }
   ],
   "source": [
    "!pip3 install folium\n",
    "import pandas as pd\n",
    "import companies\n",
    "import airport\n",
    "import nightClub\n",
    "import starbuck\n",
    "import common\n",
    "import selection\n",
    "import folium\n",
    "from folium import Choropleth, Circle, Marker\n",
    "from folium.plugins import HeatMap, MarkerCluster"
   ]
  },
  {
   "cell_type": "code",
   "execution_count": 2,
   "metadata": {},
   "outputs": [],
   "source": [
    "#data = clean_companies()"
   ]
  },
  {
   "cell_type": "code",
   "execution_count": 3,
   "metadata": {},
   "outputs": [],
   "source": [
    "#starbucks = cleanStarbucks()"
   ]
  },
  {
   "cell_type": "code",
   "execution_count": 4,
   "metadata": {},
   "outputs": [],
   "source": [
    "#airports = createAirports()"
   ]
  },
  {
   "cell_type": "code",
   "execution_count": 5,
   "metadata": {},
   "outputs": [],
   "source": [
    "#data[\"airport\"] = data[[\"latitude\", \"longitude\"]].apply(lambda x: airport.findAirport(x.longitude, x.latitude, 15000), axis=1)\n",
    "#data[\"nightClub\"] = data[[\"latitude\", \"longitude\"]].apply(lambda x: nightClub.addNightClub(x.longitude, x.latitude, 500), axis=1)\n",
    "#data[\"starBuck\"] = data[[\"latitude\", \"longitude\"]].apply(lambda x: starbuck.findStarbuck(x.longitude, x.latitude, 15000), axis=1)"
   ]
  },
  {
   "cell_type": "code",
   "execution_count": 6,
   "metadata": {},
   "outputs": [],
   "source": [
    "data = pd.read_json(\"./json/airports-nightClub-starbucks.json\")"
   ]
  },
  {
   "cell_type": "code",
   "execution_count": 7,
   "metadata": {},
   "outputs": [],
   "source": [
    "data[[\"airport\", \"starBuck\", \"nightClub\"]] = data[[\"airport\", \"starBuck\", \"nightClub\"]].applymap(lambda x: None if len(x) == 0 else x)"
   ]
  },
  {
   "cell_type": "code",
   "execution_count": 8,
   "metadata": {},
   "outputs": [],
   "source": [
    "data[[\"airport\", \"starBuck\"]] = data[[\"airport\", \"starBuck\"]].applymap(lambda x: common.prettyPrint(x))"
   ]
  },
  {
   "cell_type": "code",
   "execution_count": 9,
   "metadata": {},
   "outputs": [],
   "source": [
    "data = selection.selection(data)\n",
    "data = data.sort_values(by=[\"sumTotal\"], ascending=False).reset_index(drop=True)"
   ]
  },
  {
   "cell_type": "code",
   "execution_count": 29,
   "metadata": {},
   "outputs": [],
   "source": [
    "bestOffice = data[data.index == 0]\n",
    "listaNightClub = nightClub.location(bestOffice.nightClub.values.tolist())\n",
    "listaAirport = airport.location(bestOffice.airport.values.tolist())\n",
    "listaStarBucks = starbuck.location(bestOffice.starBuck.values.tolist())"
   ]
  },
  {
   "cell_type": "code",
   "execution_count": 57,
   "metadata": {},
   "outputs": [],
   "source": [
    "start_lat = bestOffice[\"latitude\"]\n",
    "start_lon = bestOffice[\"longitude\"]\n",
    "heat_m = folium.Map(location=[start_lat, start_lon], tiles=\"cartodbpositron\", zoom_start=15)"
   ]
  },
  {
   "cell_type": "code",
   "execution_count": 58,
   "metadata": {},
   "outputs": [],
   "source": [
    "m_lat = bestOffice[\"latitude\"]\n",
    "m_long = bestOffice[\"longitude\"]\n",
    "Marker([m_lat, m_long], icon=folium.Icon(color=\"red\"), popup=\"Oficina\").add_to(heat_m);"
   ]
  },
  {
   "cell_type": "code",
   "execution_count": 59,
   "metadata": {},
   "outputs": [],
   "source": [
    "for i in listaAirport:\n",
    "    for e in i:\n",
    "        m_lat = e[\"latitude_deg\"]\n",
    "        m_long = e[\"longitude_deg\"]\n",
    "        Marker([m_lat, m_long], icon=folium.Icon(color=\"blue\"), popup=f\"Airport: {e['name']}\").add_to(heat_m)"
   ]
  },
  {
   "cell_type": "code",
   "execution_count": 60,
   "metadata": {},
   "outputs": [],
   "source": [
    "for i in listaStarBucks:\n",
    "    for e in i:\n",
    "        m_lat = e[\"latitude\"]\n",
    "        m_long = e[\"longitude\"]\n",
    "        Marker([m_lat, m_long], icon=folium.Icon(color=\"green\"), popup=\"Starbuck\").add_to(heat_m)"
   ]
  },
  {
   "cell_type": "code",
   "execution_count": 61,
   "metadata": {},
   "outputs": [],
   "source": [
    "for i in listaNightClub:\n",
    "    m_lat = i[1]\n",
    "    m_long = i[2]\n",
    "    Marker([m_lat, m_long], icon=folium.Icon(color=\"purple\"), popup=f\"nightClub: {i[0]}\").add_to(heat_m)"
   ]
  },
  {
   "cell_type": "code",
   "execution_count": 62,
   "metadata": {},
   "outputs": [
    {
     "data": {
      "text/html": [
       "<div style=\"width:100%;\"><div style=\"position:relative;width:100%;height:0;padding-bottom:60%;\"><iframe src=\"data:text/html;charset=utf-8;base64,PCFET0NUWVBFIGh0bWw+CjxoZWFkPiAgICAKICAgIDxtZXRhIGh0dHAtZXF1aXY9ImNvbnRlbnQtdHlwZSIgY29udGVudD0idGV4dC9odG1sOyBjaGFyc2V0PVVURi04IiAvPgogICAgCiAgICAgICAgPHNjcmlwdD4KICAgICAgICAgICAgTF9OT19UT1VDSCA9IGZhbHNlOwogICAgICAgICAgICBMX0RJU0FCTEVfM0QgPSBmYWxzZTsKICAgICAgICA8L3NjcmlwdD4KICAgIAogICAgPHNjcmlwdCBzcmM9Imh0dHBzOi8vY2RuLmpzZGVsaXZyLm5ldC9ucG0vbGVhZmxldEAxLjUuMS9kaXN0L2xlYWZsZXQuanMiPjwvc2NyaXB0PgogICAgPHNjcmlwdCBzcmM9Imh0dHBzOi8vY29kZS5qcXVlcnkuY29tL2pxdWVyeS0xLjEyLjQubWluLmpzIj48L3NjcmlwdD4KICAgIDxzY3JpcHQgc3JjPSJodHRwczovL21heGNkbi5ib290c3RyYXBjZG4uY29tL2Jvb3RzdHJhcC8zLjIuMC9qcy9ib290c3RyYXAubWluLmpzIj48L3NjcmlwdD4KICAgIDxzY3JpcHQgc3JjPSJodHRwczovL2NkbmpzLmNsb3VkZmxhcmUuY29tL2FqYXgvbGlicy9MZWFmbGV0LmF3ZXNvbWUtbWFya2Vycy8yLjAuMi9sZWFmbGV0LmF3ZXNvbWUtbWFya2Vycy5qcyI+PC9zY3JpcHQ+CiAgICA8bGluayByZWw9InN0eWxlc2hlZXQiIGhyZWY9Imh0dHBzOi8vY2RuLmpzZGVsaXZyLm5ldC9ucG0vbGVhZmxldEAxLjUuMS9kaXN0L2xlYWZsZXQuY3NzIi8+CiAgICA8bGluayByZWw9InN0eWxlc2hlZXQiIGhyZWY9Imh0dHBzOi8vbWF4Y2RuLmJvb3RzdHJhcGNkbi5jb20vYm9vdHN0cmFwLzMuMi4wL2Nzcy9ib290c3RyYXAubWluLmNzcyIvPgogICAgPGxpbmsgcmVsPSJzdHlsZXNoZWV0IiBocmVmPSJodHRwczovL21heGNkbi5ib290c3RyYXBjZG4uY29tL2Jvb3RzdHJhcC8zLjIuMC9jc3MvYm9vdHN0cmFwLXRoZW1lLm1pbi5jc3MiLz4KICAgIDxsaW5rIHJlbD0ic3R5bGVzaGVldCIgaHJlZj0iaHR0cHM6Ly9tYXhjZG4uYm9vdHN0cmFwY2RuLmNvbS9mb250LWF3ZXNvbWUvNC42LjMvY3NzL2ZvbnQtYXdlc29tZS5taW4uY3NzIi8+CiAgICA8bGluayByZWw9InN0eWxlc2hlZXQiIGhyZWY9Imh0dHBzOi8vY2RuanMuY2xvdWRmbGFyZS5jb20vYWpheC9saWJzL0xlYWZsZXQuYXdlc29tZS1tYXJrZXJzLzIuMC4yL2xlYWZsZXQuYXdlc29tZS1tYXJrZXJzLmNzcyIvPgogICAgPGxpbmsgcmVsPSJzdHlsZXNoZWV0IiBocmVmPSJodHRwczovL3Jhd2Nkbi5naXRoYWNrLmNvbS9weXRob24tdmlzdWFsaXphdGlvbi9mb2xpdW0vbWFzdGVyL2ZvbGl1bS90ZW1wbGF0ZXMvbGVhZmxldC5hd2Vzb21lLnJvdGF0ZS5jc3MiLz4KICAgIDxzdHlsZT5odG1sLCBib2R5IHt3aWR0aDogMTAwJTtoZWlnaHQ6IDEwMCU7bWFyZ2luOiAwO3BhZGRpbmc6IDA7fTwvc3R5bGU+CiAgICA8c3R5bGU+I21hcCB7cG9zaXRpb246YWJzb2x1dGU7dG9wOjA7Ym90dG9tOjA7cmlnaHQ6MDtsZWZ0OjA7fTwvc3R5bGU+CiAgICAKICAgICAgICAgICAgPG1ldGEgbmFtZT0idmlld3BvcnQiIGNvbnRlbnQ9IndpZHRoPWRldmljZS13aWR0aCwKICAgICAgICAgICAgICAgIGluaXRpYWwtc2NhbGU9MS4wLCBtYXhpbXVtLXNjYWxlPTEuMCwgdXNlci1zY2FsYWJsZT1ubyIgLz4KICAgICAgICAgICAgPHN0eWxlPgogICAgICAgICAgICAgICAgI21hcF83NGZkYTMyZmRlZDM0NTU0YTY4YmQ1MmI5N2E2YTkyOSB7CiAgICAgICAgICAgICAgICAgICAgcG9zaXRpb246IHJlbGF0aXZlOwogICAgICAgICAgICAgICAgICAgIHdpZHRoOiAxMDAuMCU7CiAgICAgICAgICAgICAgICAgICAgaGVpZ2h0OiAxMDAuMCU7CiAgICAgICAgICAgICAgICAgICAgbGVmdDogMC4wJTsKICAgICAgICAgICAgICAgICAgICB0b3A6IDAuMCU7CiAgICAgICAgICAgICAgICB9CiAgICAgICAgICAgIDwvc3R5bGU+CiAgICAgICAgCjwvaGVhZD4KPGJvZHk+ICAgIAogICAgCiAgICAgICAgICAgIDxkaXYgY2xhc3M9ImZvbGl1bS1tYXAiIGlkPSJtYXBfNzRmZGEzMmZkZWQzNDU1NGE2OGJkNTJiOTdhNmE5MjkiID48L2Rpdj4KICAgICAgICAKPC9ib2R5Pgo8c2NyaXB0PiAgICAKICAgIAogICAgICAgICAgICB2YXIgbWFwXzc0ZmRhMzJmZGVkMzQ1NTRhNjhiZDUyYjk3YTZhOTI5ID0gTC5tYXAoCiAgICAgICAgICAgICAgICAibWFwXzc0ZmRhMzJmZGVkMzQ1NTRhNjhiZDUyYjk3YTZhOTI5IiwKICAgICAgICAgICAgICAgIHsKICAgICAgICAgICAgICAgICAgICBjZW50ZXI6IFs0MC43NzA3NDM5LCAtNzMuOTU2OTExNV0sCiAgICAgICAgICAgICAgICAgICAgY3JzOiBMLkNSUy5FUFNHMzg1NywKICAgICAgICAgICAgICAgICAgICB6b29tOiAxNSwKICAgICAgICAgICAgICAgICAgICB6b29tQ29udHJvbDogdHJ1ZSwKICAgICAgICAgICAgICAgICAgICBwcmVmZXJDYW52YXM6IGZhbHNlLAogICAgICAgICAgICAgICAgfQogICAgICAgICAgICApOwoKICAgICAgICAgICAgCgogICAgICAgIAogICAgCiAgICAgICAgICAgIHZhciB0aWxlX2xheWVyXzQyNTA3OGQ1MzVhYTQ2NjZiODVmYWM0ODBiNmM1YzZlID0gTC50aWxlTGF5ZXIoCiAgICAgICAgICAgICAgICAiaHR0cHM6Ly9jYXJ0b2RiLWJhc2VtYXBzLXtzfS5nbG9iYWwuc3NsLmZhc3RseS5uZXQvbGlnaHRfYWxsL3t6fS97eH0ve3l9LnBuZyIsCiAgICAgICAgICAgICAgICB7ImF0dHJpYnV0aW9uIjogIlx1MDAyNmNvcHk7IFx1MDAzY2EgaHJlZj1cImh0dHA6Ly93d3cub3BlbnN0cmVldG1hcC5vcmcvY29weXJpZ2h0XCJcdTAwM2VPcGVuU3RyZWV0TWFwXHUwMDNjL2FcdTAwM2UgY29udHJpYnV0b3JzIFx1MDAyNmNvcHk7IFx1MDAzY2EgaHJlZj1cImh0dHA6Ly9jYXJ0b2RiLmNvbS9hdHRyaWJ1dGlvbnNcIlx1MDAzZUNhcnRvREJcdTAwM2MvYVx1MDAzZSwgQ2FydG9EQiBcdTAwM2NhIGhyZWYgPVwiaHR0cDovL2NhcnRvZGIuY29tL2F0dHJpYnV0aW9uc1wiXHUwMDNlYXR0cmlidXRpb25zXHUwMDNjL2FcdTAwM2UiLCAiZGV0ZWN0UmV0aW5hIjogZmFsc2UsICJtYXhOYXRpdmVab29tIjogMTgsICJtYXhab29tIjogMTgsICJtaW5ab29tIjogMCwgIm5vV3JhcCI6IGZhbHNlLCAib3BhY2l0eSI6IDEsICJzdWJkb21haW5zIjogImFiYyIsICJ0bXMiOiBmYWxzZX0KICAgICAgICAgICAgKS5hZGRUbyhtYXBfNzRmZGEzMmZkZWQzNDU1NGE2OGJkNTJiOTdhNmE5MjkpOwogICAgICAgIAogICAgCiAgICAgICAgICAgIHZhciBtYXJrZXJfNDY5ODA3Y2IxOTI2NDk5NjljNDc1MThjNjE4NDc4ZjcgPSBMLm1hcmtlcigKICAgICAgICAgICAgICAgIFs0MC43NzA3NDM5LCAtNzMuOTU2OTExNV0sCiAgICAgICAgICAgICAgICB7fQogICAgICAgICAgICApLmFkZFRvKG1hcF83NGZkYTMyZmRlZDM0NTU0YTY4YmQ1MmI5N2E2YTkyOSk7CiAgICAgICAgCiAgICAKICAgICAgICAgICAgdmFyIGljb25fYmM3MWVjMTM1NWIwNDAwMGI5OWQ4Y2E0NDY2MThmZDcgPSBMLkF3ZXNvbWVNYXJrZXJzLmljb24oCiAgICAgICAgICAgICAgICB7ImV4dHJhQ2xhc3NlcyI6ICJmYS1yb3RhdGUtMCIsICJpY29uIjogImluZm8tc2lnbiIsICJpY29uQ29sb3IiOiAid2hpdGUiLCAibWFya2VyQ29sb3IiOiAicmVkIiwgInByZWZpeCI6ICJnbHlwaGljb24ifQogICAgICAgICAgICApOwogICAgICAgICAgICBtYXJrZXJfNDY5ODA3Y2IxOTI2NDk5NjljNDc1MThjNjE4NDc4Zjcuc2V0SWNvbihpY29uX2JjNzFlYzEzNTViMDQwMDBiOTlkOGNhNDQ2NjE4ZmQ3KTsKICAgICAgICAKICAgIAogICAgICAgIHZhciBwb3B1cF9hNGI4YWFlZWFlYTk0ZGQ0YTc3NWUyMGI0MTIwNjVkZiA9IEwucG9wdXAoeyJtYXhXaWR0aCI6ICIxMDAlIn0pOwoKICAgICAgICAKICAgICAgICAgICAgdmFyIGh0bWxfNTFiNDM1ZTU5MGQzNDQyMTk1NDBiZDRkOWZjMGUyMjMgPSAkKGA8ZGl2IGlkPSJodG1sXzUxYjQzNWU1OTBkMzQ0MjE5NTQwYmQ0ZDlmYzBlMjIzIiBzdHlsZT0id2lkdGg6IDEwMC4wJTsgaGVpZ2h0OiAxMDAuMCU7Ij5PZmljaW5hPC9kaXY+YClbMF07CiAgICAgICAgICAgIHBvcHVwX2E0YjhhYWVlYWVhOTRkZDRhNzc1ZTIwYjQxMjA2NWRmLnNldENvbnRlbnQoaHRtbF81MWI0MzVlNTkwZDM0NDIxOTU0MGJkNGQ5ZmMwZTIyMyk7CiAgICAgICAgCgogICAgICAgIG1hcmtlcl80Njk4MDdjYjE5MjY0OTk2OWM0NzUxOGM2MTg0NzhmNy5iaW5kUG9wdXAocG9wdXBfYTRiOGFhZWVhZWE5NGRkNGE3NzVlMjBiNDEyMDY1ZGYpCiAgICAgICAgOwoKICAgICAgICAKICAgIAogICAgCiAgICAgICAgICAgIHZhciBtYXJrZXJfNmFjNWU4Y2QwYjUwNGE2NmJhOWRiNGVjODEwMzA0MzIgPSBMLm1hcmtlcigKICAgICAgICAgICAgICAgIFs0MC43NzcxOTg3OSwgLTczLjg3MjU5Njc0XSwKICAgICAgICAgICAgICAgIHt9CiAgICAgICAgICAgICkuYWRkVG8obWFwXzc0ZmRhMzJmZGVkMzQ1NTRhNjhiZDUyYjk3YTZhOTI5KTsKICAgICAgICAKICAgIAogICAgICAgICAgICB2YXIgaWNvbl9lYTQzMTNmYjNjMzc0NmJhYTE5ODgwNjMzZDlhYzRmNSA9IEwuQXdlc29tZU1hcmtlcnMuaWNvbigKICAgICAgICAgICAgICAgIHsiZXh0cmFDbGFzc2VzIjogImZhLXJvdGF0ZS0wIiwgImljb24iOiAiaW5mby1zaWduIiwgImljb25Db2xvciI6ICJ3aGl0ZSIsICJtYXJrZXJDb2xvciI6ICJibHVlIiwgInByZWZpeCI6ICJnbHlwaGljb24ifQogICAgICAgICAgICApOwogICAgICAgICAgICBtYXJrZXJfNmFjNWU4Y2QwYjUwNGE2NmJhOWRiNGVjODEwMzA0MzIuc2V0SWNvbihpY29uX2VhNDMxM2ZiM2MzNzQ2YmFhMTk4ODA2MzNkOWFjNGY1KTsKICAgICAgICAKICAgIAogICAgICAgIHZhciBwb3B1cF9iZmNjMGU0Yjk5M2M0ZDczODIyOTRlZjFiY2MwYzQ5NSA9IEwucG9wdXAoeyJtYXhXaWR0aCI6ICIxMDAlIn0pOwoKICAgICAgICAKICAgICAgICAgICAgdmFyIGh0bWxfY2JjNzA2MmY2N2FjNDQyMzg4ZGIzZDJlNWZkNmI4MGIgPSAkKGA8ZGl2IGlkPSJodG1sX2NiYzcwNjJmNjdhYzQ0MjM4OGRiM2QyZTVmZDZiODBiIiBzdHlsZT0id2lkdGg6IDEwMC4wJTsgaGVpZ2h0OiAxMDAuMCU7Ij5BaXJwb3J0OiBMYSBHdWFyZGlhIEFpcnBvcnQ8L2Rpdj5gKVswXTsKICAgICAgICAgICAgcG9wdXBfYmZjYzBlNGI5OTNjNGQ3MzgyMjk0ZWYxYmNjMGM0OTUuc2V0Q29udGVudChodG1sX2NiYzcwNjJmNjdhYzQ0MjM4OGRiM2QyZTVmZDZiODBiKTsKICAgICAgICAKCiAgICAgICAgbWFya2VyXzZhYzVlOGNkMGI1MDRhNjZiYTlkYjRlYzgxMDMwNDMyLmJpbmRQb3B1cChwb3B1cF9iZmNjMGU0Yjk5M2M0ZDczODIyOTRlZjFiY2MwYzQ5NSkKICAgICAgICA7CgogICAgICAgIAogICAgCiAgICAKICAgICAgICAgICAgdmFyIG1hcmtlcl85MWFiM2U2ODJiZGU0OTkzODdlOGI3ODI5NTc5YzZlMiA9IEwubWFya2VyKAogICAgICAgICAgICAgICAgWzQwLjc3MTIxMywgLTczLjk1NjgyOF0sCiAgICAgICAgICAgICAgICB7fQogICAgICAgICAgICApLmFkZFRvKG1hcF83NGZkYTMyZmRlZDM0NTU0YTY4YmQ1MmI5N2E2YTkyOSk7CiAgICAgICAgCiAgICAKICAgICAgICAgICAgdmFyIGljb25fN2FiNmViMDBmMjRjNGQ3YmI4MmQ2NzVjMjYyNjJlNmEgPSBMLkF3ZXNvbWVNYXJrZXJzLmljb24oCiAgICAgICAgICAgICAgICB7ImV4dHJhQ2xhc3NlcyI6ICJmYS1yb3RhdGUtMCIsICJpY29uIjogImluZm8tc2lnbiIsICJpY29uQ29sb3IiOiAid2hpdGUiLCAibWFya2VyQ29sb3IiOiAiZ3JlZW4iLCAicHJlZml4IjogImdseXBoaWNvbiJ9CiAgICAgICAgICAgICk7CiAgICAgICAgICAgIG1hcmtlcl85MWFiM2U2ODJiZGU0OTkzODdlOGI3ODI5NTc5YzZlMi5zZXRJY29uKGljb25fN2FiNmViMDBmMjRjNGQ3YmI4MmQ2NzVjMjYyNjJlNmEpOwogICAgICAgIAogICAgCiAgICAgICAgdmFyIHBvcHVwX2RmZDdkOTE0MGU5YzQ0ZGRhOWE5MmRjZWM4MTkwOWIzID0gTC5wb3B1cCh7Im1heFdpZHRoIjogIjEwMCUifSk7CgogICAgICAgIAogICAgICAgICAgICB2YXIgaHRtbF83M2E5YTRlMzI2ZDc0NzYyYjhiNDdkN2M4NWVkOGJhOSA9ICQoYDxkaXYgaWQ9Imh0bWxfNzNhOWE0ZTMyNmQ3NDc2MmI4YjQ3ZDdjODVlZDhiYTkiIHN0eWxlPSJ3aWR0aDogMTAwLjAlOyBoZWlnaHQ6IDEwMC4wJTsiPlN0YXJidWNrPC9kaXY+YClbMF07CiAgICAgICAgICAgIHBvcHVwX2RmZDdkOTE0MGU5YzQ0ZGRhOWE5MmRjZWM4MTkwOWIzLnNldENvbnRlbnQoaHRtbF83M2E5YTRlMzI2ZDc0NzYyYjhiNDdkN2M4NWVkOGJhOSk7CiAgICAgICAgCgogICAgICAgIG1hcmtlcl85MWFiM2U2ODJiZGU0OTkzODdlOGI3ODI5NTc5YzZlMi5iaW5kUG9wdXAocG9wdXBfZGZkN2Q5MTQwZTljNDRkZGE5YTkyZGNlYzgxOTA5YjMpCiAgICAgICAgOwoKICAgICAgICAKICAgIAogICAgCiAgICAgICAgICAgIHZhciBtYXJrZXJfMTQ1MTM4NmE4OGI0NGQ3ZmJiNWZmMDcwZGVhMGRkZDcgPSBMLm1hcmtlcigKICAgICAgICAgICAgICAgIFs0MC43NzAwMzEsIC03My45NTQ2MzFdLAogICAgICAgICAgICAgICAge30KICAgICAgICAgICAgKS5hZGRUbyhtYXBfNzRmZGEzMmZkZWQzNDU1NGE2OGJkNTJiOTdhNmE5MjkpOwogICAgICAgIAogICAgCiAgICAgICAgICAgIHZhciBpY29uX2JhOTJkODNhMDhkNzQyYWY5ZTI1Zjg0ODNiNmM2YWYwID0gTC5Bd2Vzb21lTWFya2Vycy5pY29uKAogICAgICAgICAgICAgICAgeyJleHRyYUNsYXNzZXMiOiAiZmEtcm90YXRlLTAiLCAiaWNvbiI6ICJpbmZvLXNpZ24iLCAiaWNvbkNvbG9yIjogIndoaXRlIiwgIm1hcmtlckNvbG9yIjogImdyZWVuIiwgInByZWZpeCI6ICJnbHlwaGljb24ifQogICAgICAgICAgICApOwogICAgICAgICAgICBtYXJrZXJfMTQ1MTM4NmE4OGI0NGQ3ZmJiNWZmMDcwZGVhMGRkZDcuc2V0SWNvbihpY29uX2JhOTJkODNhMDhkNzQyYWY5ZTI1Zjg0ODNiNmM2YWYwKTsKICAgICAgICAKICAgIAogICAgICAgIHZhciBwb3B1cF9kNjRhNmNjODIyMTM0OWY2YTA5MDMxZjNiNTk3YTZmOSA9IEwucG9wdXAoeyJtYXhXaWR0aCI6ICIxMDAlIn0pOwoKICAgICAgICAKICAgICAgICAgICAgdmFyIGh0bWxfNTg4NDc5NDFkNWQ1NDgyODg5NjllMTJiNWYyMDU2ZGUgPSAkKGA8ZGl2IGlkPSJodG1sXzU4ODQ3OTQxZDVkNTQ4Mjg4OTY5ZTEyYjVmMjA1NmRlIiBzdHlsZT0id2lkdGg6IDEwMC4wJTsgaGVpZ2h0OiAxMDAuMCU7Ij5TdGFyYnVjazwvZGl2PmApWzBdOwogICAgICAgICAgICBwb3B1cF9kNjRhNmNjODIyMTM0OWY2YTA5MDMxZjNiNTk3YTZmOS5zZXRDb250ZW50KGh0bWxfNTg4NDc5NDFkNWQ1NDgyODg5NjllMTJiNWYyMDU2ZGUpOwogICAgICAgIAoKICAgICAgICBtYXJrZXJfMTQ1MTM4NmE4OGI0NGQ3ZmJiNWZmMDcwZGVhMGRkZDcuYmluZFBvcHVwKHBvcHVwX2Q2NGE2Y2M4MjIxMzQ5ZjZhMDkwMzFmM2I1OTdhNmY5KQogICAgICAgIDsKCiAgICAgICAgCiAgICAKICAgIAogICAgICAgICAgICB2YXIgbWFya2VyX2M4MmRlN2ZjN2EyYzRlYjZiNDkxYzMxYWY5YWU0ZGRhID0gTC5tYXJrZXIoCiAgICAgICAgICAgICAgICBbNDAuNzcxMTExMSwgLTczLjk1NjM4ODldLAogICAgICAgICAgICAgICAge30KICAgICAgICAgICAgKS5hZGRUbyhtYXBfNzRmZGEzMmZkZWQzNDU1NGE2OGJkNTJiOTdhNmE5MjkpOwogICAgICAgIAogICAgCiAgICAgICAgICAgIHZhciBpY29uX2QzZmNjZjQ1NWVlOTRjYTJiOTJiODU4ODYzNTBmZjVjID0gTC5Bd2Vzb21lTWFya2Vycy5pY29uKAogICAgICAgICAgICAgICAgeyJleHRyYUNsYXNzZXMiOiAiZmEtcm90YXRlLTAiLCAiaWNvbiI6ICJpbmZvLXNpZ24iLCAiaWNvbkNvbG9yIjogIndoaXRlIiwgIm1hcmtlckNvbG9yIjogInB1cnBsZSIsICJwcmVmaXgiOiAiZ2x5cGhpY29uIn0KICAgICAgICAgICAgKTsKICAgICAgICAgICAgbWFya2VyX2M4MmRlN2ZjN2EyYzRlYjZiNDkxYzMxYWY5YWU0ZGRhLnNldEljb24oaWNvbl9kM2ZjY2Y0NTVlZTk0Y2EyYjkyYjg1ODg2MzUwZmY1Yyk7CiAgICAgICAgCiAgICAKICAgICAgICB2YXIgcG9wdXBfOTllYTczODc1ZGJjNDQ4MGEzMjBmMzk0N2IwNzMzYWMgPSBMLnBvcHVwKHsibWF4V2lkdGgiOiAiMTAwJSJ9KTsKCiAgICAgICAgCiAgICAgICAgICAgIHZhciBodG1sX2UxYjQ0MTc3MDFlOTRlMTFhZGZjZjE5MGYxYTdiNzE4ID0gJChgPGRpdiBpZD0iaHRtbF9lMWI0NDE3NzAxZTk0ZTExYWRmY2YxOTBmMWE3YjcxOCIgc3R5bGU9IndpZHRoOiAxMDAuMCU7IGhlaWdodDogMTAwLjAlOyI+bmlnaHRDbHViOiBJZ2d5J3M8L2Rpdj5gKVswXTsKICAgICAgICAgICAgcG9wdXBfOTllYTczODc1ZGJjNDQ4MGEzMjBmMzk0N2IwNzMzYWMuc2V0Q29udGVudChodG1sX2UxYjQ0MTc3MDFlOTRlMTFhZGZjZjE5MGYxYTdiNzE4KTsKICAgICAgICAKCiAgICAgICAgbWFya2VyX2M4MmRlN2ZjN2EyYzRlYjZiNDkxYzMxYWY5YWU0ZGRhLmJpbmRQb3B1cChwb3B1cF85OWVhNzM4NzVkYmM0NDgwYTMyMGYzOTQ3YjA3MzNhYykKICAgICAgICA7CgogICAgICAgIAogICAgCiAgICAKICAgICAgICAgICAgdmFyIG1hcmtlcl9lZWNiM2Y1NDczZTI0NDgzOGI4Nzc2NTMzMmVlMmFhMiA9IEwubWFya2VyKAogICAgICAgICAgICAgICAgWzQwLjc2ODU2OSwgLTczLjk1NTk1NTRdLAogICAgICAgICAgICAgICAge30KICAgICAgICAgICAgKS5hZGRUbyhtYXBfNzRmZGEzMmZkZWQzNDU1NGE2OGJkNTJiOTdhNmE5MjkpOwogICAgICAgIAogICAgCiAgICAgICAgICAgIHZhciBpY29uXzNkMmExOGFhMTg3YzQyZjNhOGY5ZDRiYzJhMTQ0ODEyID0gTC5Bd2Vzb21lTWFya2Vycy5pY29uKAogICAgICAgICAgICAgICAgeyJleHRyYUNsYXNzZXMiOiAiZmEtcm90YXRlLTAiLCAiaWNvbiI6ICJpbmZvLXNpZ24iLCAiaWNvbkNvbG9yIjogIndoaXRlIiwgIm1hcmtlckNvbG9yIjogInB1cnBsZSIsICJwcmVmaXgiOiAiZ2x5cGhpY29uIn0KICAgICAgICAgICAgKTsKICAgICAgICAgICAgbWFya2VyX2VlY2IzZjU0NzNlMjQ0ODM4Yjg3NzY1MzMyZWUyYWEyLnNldEljb24oaWNvbl8zZDJhMThhYTE4N2M0MmYzYThmOWQ0YmMyYTE0NDgxMik7CiAgICAgICAgCiAgICAKICAgICAgICB2YXIgcG9wdXBfMzg1YWUwOTNkMjBiNDllNmI5NWQxMTQ2MGJjZTc3NDkgPSBMLnBvcHVwKHsibWF4V2lkdGgiOiAiMTAwJSJ9KTsKCiAgICAgICAgCiAgICAgICAgICAgIHZhciBodG1sX2FlYzM3N2MxNzY0ZjRlMzViNWM0NTgzYWNkYzE4NTgxID0gJChgPGRpdiBpZD0iaHRtbF9hZWMzNzdjMTc2NGY0ZTM1YjVjNDU4M2FjZGMxODU4MSIgc3R5bGU9IndpZHRoOiAxMDAuMCU7IGhlaWdodDogMTAwLjAlOyI+bmlnaHRDbHViOiBTZXNzaW9uIDczPC9kaXY+YClbMF07CiAgICAgICAgICAgIHBvcHVwXzM4NWFlMDkzZDIwYjQ5ZTZiOTVkMTE0NjBiY2U3NzQ5LnNldENvbnRlbnQoaHRtbF9hZWMzNzdjMTc2NGY0ZTM1YjVjNDU4M2FjZGMxODU4MSk7CiAgICAgICAgCgogICAgICAgIG1hcmtlcl9lZWNiM2Y1NDczZTI0NDgzOGI4Nzc2NTMzMmVlMmFhMi5iaW5kUG9wdXAocG9wdXBfMzg1YWUwOTNkMjBiNDllNmI5NWQxMTQ2MGJjZTc3NDkpCiAgICAgICAgOwoKICAgICAgICAKICAgIAogICAgCiAgICAgICAgICAgIHZhciBtYXJrZXJfNDJkMTZmOWM0YzU1NDhjYWJmZTRkNmY4MTUzM2I0N2IgPSBMLm1hcmtlcigKICAgICAgICAgICAgICAgIFs0MC43NzIyOTg4LCAtNzMuOTU2MTMwMV0sCiAgICAgICAgICAgICAgICB7fQogICAgICAgICAgICApLmFkZFRvKG1hcF83NGZkYTMyZmRlZDM0NTU0YTY4YmQ1MmI5N2E2YTkyOSk7CiAgICAgICAgCiAgICAKICAgICAgICAgICAgdmFyIGljb25fNDZlMDM4M2RiMDgxNDYxNThiODQ2MThkNjYyMjZkYTcgPSBMLkF3ZXNvbWVNYXJrZXJzLmljb24oCiAgICAgICAgICAgICAgICB7ImV4dHJhQ2xhc3NlcyI6ICJmYS1yb3RhdGUtMCIsICJpY29uIjogImluZm8tc2lnbiIsICJpY29uQ29sb3IiOiAid2hpdGUiLCAibWFya2VyQ29sb3IiOiAicHVycGxlIiwgInByZWZpeCI6ICJnbHlwaGljb24ifQogICAgICAgICAgICApOwogICAgICAgICAgICBtYXJrZXJfNDJkMTZmOWM0YzU1NDhjYWJmZTRkNmY4MTUzM2I0N2Iuc2V0SWNvbihpY29uXzQ2ZTAzODNkYjA4MTQ2MTU4Yjg0NjE4ZDY2MjI2ZGE3KTsKICAgICAgICAKICAgIAogICAgICAgIHZhciBwb3B1cF8wY2I0ZjA2YjliYzc0OGRiOTBjZDdlNjVmYzZiYjIyYyA9IEwucG9wdXAoeyJtYXhXaWR0aCI6ICIxMDAlIn0pOwoKICAgICAgICAKICAgICAgICAgICAgdmFyIGh0bWxfNjU4YmFkYzExNTgwNDEwNmEzZDI1MjQyOTUzOGZkYzUgPSAkKGA8ZGl2IGlkPSJodG1sXzY1OGJhZGMxMTU4MDQxMDZhM2QyNTI0Mjk1MzhmZGM1IiBzdHlsZT0id2lkdGg6IDEwMC4wJTsgaGVpZ2h0OiAxMDAuMCU7Ij5uaWdodENsdWI6IFZlcm8gV2luZSBCYXI8L2Rpdj5gKVswXTsKICAgICAgICAgICAgcG9wdXBfMGNiNGYwNmI5YmM3NDhkYjkwY2Q3ZTY1ZmM2YmIyMmMuc2V0Q29udGVudChodG1sXzY1OGJhZGMxMTU4MDQxMDZhM2QyNTI0Mjk1MzhmZGM1KTsKICAgICAgICAKCiAgICAgICAgbWFya2VyXzQyZDE2ZjljNGM1NTQ4Y2FiZmU0ZDZmODE1MzNiNDdiLmJpbmRQb3B1cChwb3B1cF8wY2I0ZjA2YjliYzc0OGRiOTBjZDdlNjVmYzZiYjIyYykKICAgICAgICA7CgogICAgICAgIAogICAgCiAgICAKICAgICAgICAgICAgdmFyIG1hcmtlcl9kMzc1MGVkMTgzMDM0MzY1ODRmODI1MGRkMzdjNjFiMSA9IEwubWFya2VyKAogICAgICAgICAgICAgICAgWzQwLjc2ODcxNSwgLTczLjk1NjI1OV0sCiAgICAgICAgICAgICAgICB7fQogICAgICAgICAgICApLmFkZFRvKG1hcF83NGZkYTMyZmRlZDM0NTU0YTY4YmQ1MmI5N2E2YTkyOSk7CiAgICAgICAgCiAgICAKICAgICAgICAgICAgdmFyIGljb25fMmJiNDliNmFjYjVjNDU3OGI1MmQxNDA0NjZiMjg0N2QgPSBMLkF3ZXNvbWVNYXJrZXJzLmljb24oCiAgICAgICAgICAgICAgICB7ImV4dHJhQ2xhc3NlcyI6ICJmYS1yb3RhdGUtMCIsICJpY29uIjogImluZm8tc2lnbiIsICJpY29uQ29sb3IiOiAid2hpdGUiLCAibWFya2VyQ29sb3IiOiAicHVycGxlIiwgInByZWZpeCI6ICJnbHlwaGljb24ifQogICAgICAgICAgICApOwogICAgICAgICAgICBtYXJrZXJfZDM3NTBlZDE4MzAzNDM2NTg0ZjgyNTBkZDM3YzYxYjEuc2V0SWNvbihpY29uXzJiYjQ5YjZhY2I1YzQ1NzhiNTJkMTQwNDY2YjI4NDdkKTsKICAgICAgICAKICAgIAogICAgICAgIHZhciBwb3B1cF9jM2I0NDFmYzE0Yjk0MjQxYTE3OWRjOGM2MTJhZDQxMCA9IEwucG9wdXAoeyJtYXhXaWR0aCI6ICIxMDAlIn0pOwoKICAgICAgICAKICAgICAgICAgICAgdmFyIGh0bWxfOWU5OWNlMGYzNmZjNGI2YzlmYWUwZTJiOWMzYzU2YjMgPSAkKGA8ZGl2IGlkPSJodG1sXzllOTljZTBmMzZmYzRiNmM5ZmFlMGUyYjljM2M1NmIzIiBzdHlsZT0id2lkdGg6IDEwMC4wJTsgaGVpZ2h0OiAxMDAuMCU7Ij5uaWdodENsdWI6IENhc2EgZGUgTW9udGVjcmlzdG88L2Rpdj5gKVswXTsKICAgICAgICAgICAgcG9wdXBfYzNiNDQxZmMxNGI5NDI0MWExNzlkYzhjNjEyYWQ0MTAuc2V0Q29udGVudChodG1sXzllOTljZTBmMzZmYzRiNmM5ZmFlMGUyYjljM2M1NmIzKTsKICAgICAgICAKCiAgICAgICAgbWFya2VyX2QzNzUwZWQxODMwMzQzNjU4NGY4MjUwZGQzN2M2MWIxLmJpbmRQb3B1cChwb3B1cF9jM2I0NDFmYzE0Yjk0MjQxYTE3OWRjOGM2MTJhZDQxMCkKICAgICAgICA7CgogICAgICAgIAogICAgCiAgICAKICAgICAgICAgICAgdmFyIG1hcmtlcl9iY2IzZWMxZGJhNmY0NGRiOTVmMjMwNzkyZWU2NTA3MiA9IEwubWFya2VyKAogICAgICAgICAgICAgICAgWzQwLjc3MjgyMDgsIC03My45NjAxMDgzXSwKICAgICAgICAgICAgICAgIHt9CiAgICAgICAgICAgICkuYWRkVG8obWFwXzc0ZmRhMzJmZGVkMzQ1NTRhNjhiZDUyYjk3YTZhOTI5KTsKICAgICAgICAKICAgIAogICAgICAgICAgICB2YXIgaWNvbl81YjlmYmIxOGI3ZDA0OWFjOTRjMGFmNzc4MzVhZGFiNCA9IEwuQXdlc29tZU1hcmtlcnMuaWNvbigKICAgICAgICAgICAgICAgIHsiZXh0cmFDbGFzc2VzIjogImZhLXJvdGF0ZS0wIiwgImljb24iOiAiaW5mby1zaWduIiwgImljb25Db2xvciI6ICJ3aGl0ZSIsICJtYXJrZXJDb2xvciI6ICJwdXJwbGUiLCAicHJlZml4IjogImdseXBoaWNvbiJ9CiAgICAgICAgICAgICk7CiAgICAgICAgICAgIG1hcmtlcl9iY2IzZWMxZGJhNmY0NGRiOTVmMjMwNzkyZWU2NTA3Mi5zZXRJY29uKGljb25fNWI5ZmJiMThiN2QwNDlhYzk0YzBhZjc3ODM1YWRhYjQpOwogICAgICAgIAogICAgCiAgICAgICAgdmFyIHBvcHVwX2EyZjU2MmZhMTFjOTQ3MWY4MTk1YWIyNDdhNTQ5ODFkID0gTC5wb3B1cCh7Im1heFdpZHRoIjogIjEwMCUifSk7CgogICAgICAgIAogICAgICAgICAgICB2YXIgaHRtbF9hMGU1MjU1M2ZiZmE0OWUwOWYxMGFjNDJiMzcyNzI1NiA9ICQoYDxkaXYgaWQ9Imh0bWxfYTBlNTI1NTNmYmZhNDllMDlmMTBhYzQyYjM3MjcyNTYiIHN0eWxlPSJ3aWR0aDogMTAwLjAlOyBoZWlnaHQ6IDEwMC4wJTsiPm5pZ2h0Q2x1YjogTWFuaGF0dGFuIEJhbGxyb29tIFNvY2lldHk8L2Rpdj5gKVswXTsKICAgICAgICAgICAgcG9wdXBfYTJmNTYyZmExMWM5NDcxZjgxOTVhYjI0N2E1NDk4MWQuc2V0Q29udGVudChodG1sX2EwZTUyNTUzZmJmYTQ5ZTA5ZjEwYWM0MmIzNzI3MjU2KTsKICAgICAgICAKCiAgICAgICAgbWFya2VyX2JjYjNlYzFkYmE2ZjQ0ZGI5NWYyMzA3OTJlZTY1MDcyLmJpbmRQb3B1cChwb3B1cF9hMmY1NjJmYTExYzk0NzFmODE5NWFiMjQ3YTU0OTgxZCkKICAgICAgICA7CgogICAgICAgIAogICAgCiAgICAKICAgICAgICAgICAgdmFyIG1hcmtlcl81NjAwMzY2MzBkODk0MGY4YjVjYzVlOTA4NzVlNGFkMyA9IEwubWFya2VyKAogICAgICAgICAgICAgICAgWzQwLjc2OTU0ODcsIC03My45NTQ0MDU3XSwKICAgICAgICAgICAgICAgIHt9CiAgICAgICAgICAgICkuYWRkVG8obWFwXzc0ZmRhMzJmZGVkMzQ1NTRhNjhiZDUyYjk3YTZhOTI5KTsKICAgICAgICAKICAgIAogICAgICAgICAgICB2YXIgaWNvbl83MzFkY2E0MTkyMDE0NDFhYTBmNGE5MTA2OWFhZWExMiA9IEwuQXdlc29tZU1hcmtlcnMuaWNvbigKICAgICAgICAgICAgICAgIHsiZXh0cmFDbGFzc2VzIjogImZhLXJvdGF0ZS0wIiwgImljb24iOiAiaW5mby1zaWduIiwgImljb25Db2xvciI6ICJ3aGl0ZSIsICJtYXJrZXJDb2xvciI6ICJwdXJwbGUiLCAicHJlZml4IjogImdseXBoaWNvbiJ9CiAgICAgICAgICAgICk7CiAgICAgICAgICAgIG1hcmtlcl81NjAwMzY2MzBkODk0MGY4YjVjYzVlOTA4NzVlNGFkMy5zZXRJY29uKGljb25fNzMxZGNhNDE5MjAxNDQxYWEwZjRhOTEwNjlhYWVhMTIpOwogICAgICAgIAogICAgCiAgICAgICAgdmFyIHBvcHVwXzVhNTY0OTZlMmE0YjQzNDA4NDk4ZjAwOWQxYWU4ZjZmID0gTC5wb3B1cCh7Im1heFdpZHRoIjogIjEwMCUifSk7CgogICAgICAgIAogICAgICAgICAgICB2YXIgaHRtbF8xZDBmNWU1NGI1MTA0MjhiOWE5ZDRhODY4YmVlZDdkYiA9ICQoYDxkaXYgaWQ9Imh0bWxfMWQwZjVlNTRiNTEwNDI4YjlhOWQ0YTg2OGJlZWQ3ZGIiIHN0eWxlPSJ3aWR0aDogMTAwLjAlOyBoZWlnaHQ6IDEwMC4wJTsiPm5pZ2h0Q2x1YjogMm5kIEZsb29yPC9kaXY+YClbMF07CiAgICAgICAgICAgIHBvcHVwXzVhNTY0OTZlMmE0YjQzNDA4NDk4ZjAwOWQxYWU4ZjZmLnNldENvbnRlbnQoaHRtbF8xZDBmNWU1NGI1MTA0MjhiOWE5ZDRhODY4YmVlZDdkYik7CiAgICAgICAgCgogICAgICAgIG1hcmtlcl81NjAwMzY2MzBkODk0MGY4YjVjYzVlOTA4NzVlNGFkMy5iaW5kUG9wdXAocG9wdXBfNWE1NjQ5NmUyYTRiNDM0MDg0OThmMDA5ZDFhZThmNmYpCiAgICAgICAgOwoKICAgICAgICAKICAgIAo8L3NjcmlwdD4=\" style=\"position:absolute;width:100%;height:100%;left:0;top:0;border:none !important;\" allowfullscreen webkitallowfullscreen mozallowfullscreen></iframe></div></div>"
      ],
      "text/plain": [
       "<folium.folium.Map at 0x10fb0bf0>"
      ]
     },
     "execution_count": 62,
     "metadata": {},
     "output_type": "execute_result"
    }
   ],
   "source": [
    "heat_m"
   ]
  },
  {
   "cell_type": "code",
   "execution_count": null,
   "metadata": {},
   "outputs": [],
   "source": []
  }
 ],
 "metadata": {
  "kernelspec": {
   "display_name": "Python 3",
   "language": "python",
   "name": "python3"
  },
  "language_info": {
   "codemirror_mode": {
    "name": "ipython",
    "version": 3
   },
   "file_extension": ".py",
   "mimetype": "text/x-python",
   "name": "python",
   "nbconvert_exporter": "python",
   "pygments_lexer": "ipython3",
   "version": "3.7.0"
  }
 },
 "nbformat": 4,
 "nbformat_minor": 2
}
