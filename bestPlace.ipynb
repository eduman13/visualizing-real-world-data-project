{
 "cells": [
  {
   "cell_type": "code",
   "execution_count": 2,
   "metadata": {},
   "outputs": [
    {
     "name": "stdout",
     "output_type": "stream",
     "text": [
      "Requirement already satisfied: folium in c:\\users\\eduardo\\appdata\\local\\programs\\python\\python37-32\\lib\\site-packages (0.10.1)\n",
      "Requirement already satisfied: requests in c:\\users\\eduardo\\appdata\\local\\programs\\python\\python37-32\\lib\\site-packages (from folium) (2.22.0)\n",
      "Requirement already satisfied: numpy in c:\\users\\eduardo\\appdata\\local\\programs\\python\\python37-32\\lib\\site-packages (from folium) (1.18.1)\n",
      "Requirement already satisfied: branca>=0.3.0 in c:\\users\\eduardo\\appdata\\local\\programs\\python\\python37-32\\lib\\site-packages (from folium) (0.3.1)\n",
      "Requirement already satisfied: jinja2>=2.9 in c:\\users\\eduardo\\appdata\\local\\programs\\python\\python37-32\\lib\\site-packages (from folium) (2.10.3)\n",
      "Requirement already satisfied: certifi>=2017.4.17 in c:\\users\\eduardo\\appdata\\local\\programs\\python\\python37-32\\lib\\site-packages (from requests->folium) (2019.11.28)\n",
      "Requirement already satisfied: chardet<3.1.0,>=3.0.2 in c:\\users\\eduardo\\appdata\\local\\programs\\python\\python37-32\\lib\\site-packages (from requests->folium) (3.0.4)\n",
      "Requirement already satisfied: idna<2.9,>=2.5 in c:\\users\\eduardo\\appdata\\local\\programs\\python\\python37-32\\lib\\site-packages (from requests->folium) (2.8)\n",
      "Requirement already satisfied: urllib3!=1.25.0,!=1.25.1,<1.26,>=1.21.1 in c:\\users\\eduardo\\appdata\\local\\programs\\python\\python37-32\\lib\\site-packages (from requests->folium) (1.25.8)\n",
      "Requirement already satisfied: six in c:\\users\\eduardo\\appdata\\local\\programs\\python\\python37-32\\lib\\site-packages (from branca>=0.3.0->folium) (1.13.0)\n",
      "Requirement already satisfied: MarkupSafe>=0.23 in c:\\users\\eduardo\\appdata\\local\\programs\\python\\python37-32\\lib\\site-packages (from jinja2>=2.9->folium) (1.1.1)\n"
     ]
    },
    {
     "name": "stderr",
     "output_type": "stream",
     "text": [
      "WARNING: You are using pip version 19.3.1; however, version 20.0.2 is available.\n",
      "You should consider upgrading via the 'python -m pip install --upgrade pip' command.\n"
     ]
    }
   ],
   "source": [
    "!pip3 install folium\n",
    "import pandas as pd\n",
    "import companies\n",
    "import airport\n",
    "import nightClub\n",
    "import starbuck\n",
    "import common\n",
    "import selection\n",
    "import folium\n",
    "from folium import Choropleth, Circle, Marker\n",
    "from folium.plugins import HeatMap, MarkerCluster"
   ]
  },
  {
   "cell_type": "code",
   "execution_count": 2,
   "metadata": {},
   "outputs": [],
   "source": [
    "#data = clean_companies()"
   ]
  },
  {
   "cell_type": "code",
   "execution_count": 3,
   "metadata": {},
   "outputs": [],
   "source": [
    "#starbucks = cleanStarbucks()"
   ]
  },
  {
   "cell_type": "code",
   "execution_count": 4,
   "metadata": {},
   "outputs": [],
   "source": [
    "#airports = createAirports()"
   ]
  },
  {
   "cell_type": "code",
   "execution_count": 5,
   "metadata": {},
   "outputs": [],
   "source": [
    "#data[\"airport\"] = data[[\"latitude\", \"longitude\"]].apply(lambda x: airport.findAirport(x.longitude, x.latitude, 15000), axis=1)\n",
    "#data[\"nightClub\"] = data[[\"latitude\", \"longitude\"]].apply(lambda x: nightClub.addNightClub(x.longitude, x.latitude, 500), axis=1)\n",
    "#data[\"starBuck\"] = data[[\"latitude\", \"longitude\"]].apply(lambda x: starbuck.findStarbuck(x.longitude, x.latitude, 15000), axis=1)"
   ]
  },
  {
   "cell_type": "code",
   "execution_count": 4,
   "metadata": {},
   "outputs": [],
   "source": [
    "data = pd.read_json(\"./json/airports-nightClub-starbucks.json\")"
   ]
  },
  {
   "cell_type": "code",
   "execution_count": 7,
   "metadata": {},
   "outputs": [],
   "source": [
    "data[[\"airport\", \"starBuck\", \"nightClub\"]] = data[[\"airport\", \"starBuck\", \"nightClub\"]].applymap(lambda x: None if len(x) == 0 else x)"
   ]
  },
  {
   "cell_type": "code",
   "execution_count": 8,
   "metadata": {},
   "outputs": [],
   "source": [
    "data[[\"airport\", \"starBuck\"]] = data[[\"airport\", \"starBuck\"]].applymap(lambda x: common.prettyPrint(x))"
   ]
  },
  {
   "cell_type": "code",
   "execution_count": 9,
   "metadata": {},
   "outputs": [],
   "source": [
    "data = selection.selection(data)\n",
    "data = data.sort_values(by=[\"sumTotal\"], ascending=False).reset_index(drop=True)"
   ]
  },
  {
   "cell_type": "code",
   "execution_count": 10,
   "metadata": {},
   "outputs": [],
   "source": [
    "bestOffice = data[data.index == 0]\n",
    "listaNightClub = nightClub.location(bestOffice.nightClub.values.tolist())\n",
    "listaAirport = airport.location(bestOffice.airport.values.tolist())\n",
    "listaStarBucks = starbuck.location(bestOffice.starBuck.values.tolist())"
   ]
  },
  {
   "cell_type": "code",
   "execution_count": 11,
   "metadata": {},
   "outputs": [],
   "source": [
    "start_lat = bestOffice[\"latitude\"]\n",
    "start_lon = bestOffice[\"longitude\"]\n",
    "heat_m = folium.Map(location=[start_lat, start_lon], tiles=\"cartodbpositron\", zoom_start=15)"
   ]
  },
  {
   "cell_type": "code",
   "execution_count": 12,
   "metadata": {},
   "outputs": [],
   "source": [
    "m_lat = bestOffice[\"latitude\"]\n",
    "m_long = bestOffice[\"longitude\"]\n",
    "Marker([m_lat, m_long], icon=folium.Icon(color=\"red\")).add_to(heat_m);"
   ]
  },
  {
   "cell_type": "code",
   "execution_count": 13,
   "metadata": {},
   "outputs": [],
   "source": [
    "for i in listaAirport:\n",
    "    for e in i:\n",
    "        m_lat = e[\"latitude_deg\"]\n",
    "        m_long = e[\"longitude_deg\"]\n",
    "        Marker([m_lat, m_long], icon=folium.Icon(color=\"blue\")).add_to(heat_m)"
   ]
  },
  {
   "cell_type": "code",
   "execution_count": 14,
   "metadata": {},
   "outputs": [],
   "source": [
    "for i in listaStarBucks:\n",
    "    for e in i:\n",
    "        m_lat = e[\"latitude\"]\n",
    "        m_long = e[\"longitude\"]\n",
    "        Marker([m_lat, m_long], icon=folium.Icon(color=\"green\")).add_to(heat_m)"
   ]
  },
  {
   "cell_type": "code",
   "execution_count": 15,
   "metadata": {},
   "outputs": [],
   "source": [
    "for i in listaNightClub:\n",
    "    m_lat = i[0]\n",
    "    m_long = i[1]\n",
    "    Marker([m_lat, m_long], icon=folium.Icon(color=\"purple\")).add_to(heat_m)"
   ]
  },
  {
   "cell_type": "code",
   "execution_count": 16,
   "metadata": {
    "scrolled": false
   },
   "outputs": [
    {
     "data": {
      "text/html": [
       "<div style=\"width:100%;\"><div style=\"position:relative;width:100%;height:0;padding-bottom:60%;\"><iframe src=\"data:text/html;charset=utf-8;base64,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\" style=\"position:absolute;width:100%;height:100%;left:0;top:0;border:none !important;\" allowfullscreen webkitallowfullscreen mozallowfullscreen></iframe></div></div>"
      ],
      "text/plain": [
       "<folium.folium.Map at 0x10c8a9f0>"
      ]
     },
     "execution_count": 16,
     "metadata": {},
     "output_type": "execute_result"
    }
   ],
   "source": [
    "heat_m"
   ]
  },
  {
   "cell_type": "code",
   "execution_count": null,
   "metadata": {},
   "outputs": [],
   "source": []
  }
 ],
 "metadata": {
  "kernelspec": {
   "display_name": "Python 3",
   "language": "python",
   "name": "python3"
  },
  "language_info": {
   "codemirror_mode": {
    "name": "ipython",
    "version": 3
   },
   "file_extension": ".py",
   "mimetype": "text/x-python",
   "name": "python",
   "nbconvert_exporter": "python",
   "pygments_lexer": "ipython3",
   "version": "3.7.0"
  }
 },
 "nbformat": 4,
 "nbformat_minor": 2
}
